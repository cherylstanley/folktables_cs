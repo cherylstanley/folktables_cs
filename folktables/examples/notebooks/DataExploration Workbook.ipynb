{
 "cells": [
  {
   "cell_type": "markdown",
   "metadata": {},
   "source": [
    "Summary of Findings From Dataset\n",
    "=============================\n",
    "\n",
    "===========================================================================\n",
    "\n",
    "FolkTables is a Python Library derived from the ACS (American Community Survey) Census Data and has multiple years worth of information on various demographics and divisions of the United States. \n",
    "\n",
    "The FolkTables code provides the abilility to download the dataset to csv and make custom prediction tasks on different variables\n",
    "\n",
    "---------------------------------------------------------------------\n",
    "\n",
    "ACSDataSource is used to download the dataset and can be supplied with year (ex. 2018) and horizon (1-year, 5-year)\n",
    "\n",
    "The datasets are downloaded into a csv file with all features organized in the exact same order regardless of the dataset being downloaded, and each feature separated by a comma: \n",
    "ex. RT,SERIALNO,DIVISION,SPORDER,PUMA,REGION,ST,ADJINC,PWGTP,AGEP,CIT,CITWP,COW,DDRS\n",
    "\n",
    "\n",
    "--------------------------------------------------------------------------\n",
    "After obtaining all data for a particular year, can download for a particular state using *data-source.get_data* and argument: states = [two-letter state code]\n",
    "\n",
    "\n",
    "\n",
    "\n",
    "\n",
    "\n",
    "According to *2018 ACS PUMS DATA DICTIONARY*\n",
    "----------------------------------------------------------------------\n",
    "(relevant for 2018 dataset)\n",
    "\n",
    "Different states are categorized in the dataset using different numbers of length '2' and the feature is 'ST' in the csv file\n",
    "\n",
    "For example: the same csv downloaded for the same region (01 - Northeast) will have rows corresponding to the state you chose in datasource.get_data (for example, Michigan)\n",
    "\n",
    "\n",
    "\n",
    "\n",
    "\n",
    "\n",
    "\n",
    "Features, Labels, and Groups\n",
    "========================\n",
    "\n",
    "\n",
    "After downloading the data, you can either use df.to_numpy\n",
    "\n",
    "ca_features1, ca_labels1, ca_group1 = ACSIncome.df_to_numpy(ca_data)\n",
    "mi_features1, mi_labels1, mi_group1 = ACSIncome.df_to_numpy(mi_data)\n",
    "\n",
    "OR\n",
    "\n",
    "ca_features2, ca_labels2, ca_group2 = ACSIncome.df_to_pandas(ca_data, categories=ACSIncome_categories, dummies=True)\n",
    "mi_features2, mi_labels2, mi_group2 = ACSIncome.df_to_pandas(ca_data, categories=ACSIncome_categories, dummies=True)\n",
    "\n",
    "\n",
    "\n",
    "They key difference being that ACSIncome_categories is an object created with custom features corresponding to the prediction task you made, ex,  \"SEX\": {1.0: \"Male\", 2.0: \"Female\"},\n",
    "\n",
    "\n",
    "ACSIncome_Categories is a custom prediction task which can be created but the creators of folktables created other prediction tasks such as : \n",
    "\n",
    "\"\n",
    "    Our IPUMS Adult reconstruction contains 49,531 rows, each with 14\n",
    "    attributes.  The following table described the sizes of our datasets derived\n",
    "    from ACS.\n",
    " \n",
    "    |Task | Features | Datapoints |\n",
    "    |-----|----------|------------|\n",
    "    | ACSIncome         | 10       | 1,664,500  |\n",
    "    | ACSPublicCoverage | 19       | 1,138,289  |\n",
    "    | ACSMobility       | 21       | 620,937    |\n",
    "    | ACSEmployment     | 17       | 3,236,107  |\n",
    "    | ACSTravelTime     | 16       | 1,466,648  |\n",
    "    \n",
    "\"\n",
    "\n",
    "I used ACSIncome for ca_features1 and as expected\n",
    "\n",
    "Another difference is that ca_features1.shape is (195665, 10) with the first number corresponding to number of rows, second corresponding to number of features.\n",
    "\n",
    "Group is what you predict on (ex. RAC1P) and is only one column among all the rows in the dataset and its shape will be 1 * num rows\n",
    "\n",
    "\n",
    "Features are the features chosen from the prediction task which are applied to the ML model: the number of\n",
    "ca_features2.shape\n",
    "(195665, 53)\n",
    "53 means the custom prediction task ACSIncome_Categories has 53 features.\n",
    "\n",
    "\n",
    "\n",
    "Labels is the outputs after applying the prediction tasks to the ML model (ex. ca_labels1) and its shape wil, like Group, be 1 * num rows\n",
    "\n",
    "Group and Label will have the same shape, but features corresponds to a specific set of columns used in the prediction task\n",
    "\n",
    "\n",
    "Histogram plots of different states' features, label, and group data in the notebook below (ex. AL, CA, MI) confirm the findings of what the shapes of the data are supposed to be above,"
   ]
  },
  {
   "cell_type": "markdown",
   "metadata": {},
   "source": [
    "Notes:\n",
    "\n",
    "Import folktables to download dataset (ACSDataSource)\n",
    "\n",
    "call function ACSDataSource to customize year and other parameters for the survey being downloaded\n",
    "\n",
    "data-source.get_data (download data for a particular state using argument: states = [two-letter state code]\n",
    "\n",
    "after downloading data can use \n",
    "\n",
    "\n",
    "Group labels, 1 and 2\n"
   ]
  },
  {
   "cell_type": "markdown",
   "metadata": {},
   "source": [
    "We first construct a data source for the 2018 yearly [American Community\n",
    "Survey](https://www.census.gov/programs-surveys/acs), download the\n",
    "corresponding data for Alabama, and use this data to instantiate a\n",
    "prediction task of interest, for example, the `ACSEmployment` task.\n",
    "```py"
   ]
  },
  {
   "cell_type": "markdown",
   "metadata": {},
   "source": [
    "https://www.census.gov/programs-surveys/acs)\n",
    "    Notes:\n",
    "    "
   ]
  },
  {
   "cell_type": "code",
   "execution_count": null,
   "metadata": {
    "vscode": {
     "languageId": "plaintext"
    }
   },
   "outputs": [],
   "source": [
    "import folktables\n",
    "\n",
    "from folktables import ACSDataSource, ACSEmployment\n",
    "\n",
    "data_source = ACSDataSource(survey_year='2018', horizon='1-Year', survey='person')\n",
    "acs_data = data_source.get_data(states=[\"AL\"], download=True)\n",
    "features, label, group = ACSEmployment.df_to_numpy(acs_data)\n"
   ]
  },
  {
   "cell_type": "code",
   "execution_count": null,
   "metadata": {
    "vscode": {
     "languageId": "plaintext"
    }
   },
   "outputs": [],
   "source": [
    "from matplotlib import pyplot as plt\n",
    "import numpy as np\n",
    " \n",
    " \n",
    "\n",
    "# Creating histogram\n",
    "fig, ax = plt.subplots(figsize =(10, 7))\n",
    "# x = int(np.sqrt(195665))\n",
    "# print(x)\n",
    "# numbins = np.round(x)\n",
    "# Set title \n",
    "ax.set_title(\"Histogram of Alabama Features\") \n",
    "  \n",
    "# adding labels \n",
    "ax.set_xlabel('Features') \n",
    "# ax.set_ylabel('Labels') \n",
    "# print(numbins)\n",
    "\n",
    "ax.hist(features, bins = [0, 25, 50, 75, 100])\n",
    " \n",
    "# Show plot\n",
    "plt.show()"
   ]
  },
  {
   "cell_type": "code",
   "execution_count": null,
   "metadata": {
    "vscode": {
     "languageId": "plaintext"
    }
   },
   "outputs": [],
   "source": [
    "from matplotlib import pyplot as plt\n",
    "import numpy as np\n",
    " \n",
    " \n",
    "\n",
    "# Creating histogram\n",
    "fig, ax = plt.subplots(figsize =(10, 7))\n",
    "# x = int(np.sqrt(195665))\n",
    "# print(x)\n",
    "# numbins = np.round(x)\n",
    "# Set title \n",
    "ax.set_title(\"Histogram of Alabama Labels\") \n",
    "  \n",
    "# adding labels \n",
    "ax.set_xlabel('Labels') \n",
    "# ax.set_ylabel('Labels') \n",
    "# print(numbins)\n",
    "\n",
    "ax.hist(label, bins = [0, 25, 50, 75, 100])\n",
    " \n",
    "# Show plot\n",
    "plt.show()"
   ]
  },
  {
   "cell_type": "code",
   "execution_count": null,
   "metadata": {
    "vscode": {
     "languageId": "plaintext"
    }
   },
   "outputs": [],
   "source": [
    "features[1]"
   ]
  },
  {
   "cell_type": "code",
   "execution_count": null,
   "metadata": {
    "vscode": {
     "languageId": "plaintext"
    }
   },
   "outputs": [],
   "source": [
    "features[2]"
   ]
  },
  {
   "cell_type": "code",
   "execution_count": null,
   "metadata": {
    "vscode": {
     "languageId": "plaintext"
    }
   },
   "outputs": [],
   "source": [
    "label"
   ]
  },
  {
   "cell_type": "code",
   "execution_count": null,
   "metadata": {
    "vscode": {
     "languageId": "plaintext"
    }
   },
   "outputs": [],
   "source": [
    "label[1]"
   ]
  },
  {
   "cell_type": "code",
   "execution_count": null,
   "metadata": {
    "vscode": {
     "languageId": "plaintext"
    }
   },
   "outputs": [],
   "source": [
    "label.shape"
   ]
  },
  {
   "cell_type": "code",
   "execution_count": null,
   "metadata": {
    "vscode": {
     "languageId": "plaintext"
    }
   },
   "outputs": [],
   "source": [
    "features.shape"
   ]
  },
  {
   "cell_type": "code",
   "execution_count": null,
   "metadata": {
    "vscode": {
     "languageId": "plaintext"
    }
   },
   "outputs": [],
   "source": [
    "from matplotlib import pyplot as plt\n",
    "import numpy as np\n",
    " \n",
    " \n",
    "\n",
    "# Creating histogram\n",
    "fig, ax = plt.subplots(figsize =(10, 7))\n",
    "# x = int(np.sqrt(195665))\n",
    "# print(x)\n",
    "# numbins = np.round(x)\n",
    "# Set title \n",
    "ax.set_title(\"Histogram of Alabama Groups\") \n",
    "  \n",
    "# adding labels \n",
    "ax.set_xlabel('Groups') \n",
    "# ax.set_ylabel('Labels') \n",
    "# print(numbins)\n",
    "\n",
    "ax.hist(group, bins = [0, 25, 50, 75, 100])\n",
    " \n",
    "# Show plot\n",
    "plt.show()"
   ]
  },
  {
   "cell_type": "code",
   "execution_count": null,
   "metadata": {
    "vscode": {
     "languageId": "plaintext"
    }
   },
   "outputs": [],
   "source": [
    "group"
   ]
  },
  {
   "cell_type": "code",
   "execution_count": null,
   "metadata": {
    "vscode": {
     "languageId": "plaintext"
    }
   },
   "outputs": [],
   "source": [
    "group[0]"
   ]
  },
  {
   "cell_type": "code",
   "execution_count": null,
   "metadata": {
    "vscode": {
     "languageId": "plaintext"
    }
   },
   "outputs": [],
   "source": [
    "group[1000]"
   ]
  },
  {
   "cell_type": "code",
   "execution_count": null,
   "metadata": {
    "vscode": {
     "languageId": "plaintext"
    }
   },
   "outputs": [],
   "source": [
    "group.shape"
   ]
  },
  {
   "cell_type": "code",
   "execution_count": null,
   "metadata": {
    "vscode": {
     "languageId": "plaintext"
    }
   },
   "outputs": [],
   "source": [
    "label.shape"
   ]
  },
  {
   "cell_type": "code",
   "execution_count": null,
   "metadata": {
    "vscode": {
     "languageId": "plaintext"
    }
   },
   "outputs": [],
   "source": [
    "features.shape"
   ]
  },
  {
   "cell_type": "markdown",
   "metadata": {},
   "source": [
    "Next we train a simple model on this dataset and use the `group` labels to\n",
    "evaluate the model's violation of [equality of opportunity](https://fairmlbook.org/), a common fairness\n",
    "metric."
   ]
  },
  {
   "cell_type": "code",
   "execution_count": null,
   "metadata": {
    "vscode": {
     "languageId": "plaintext"
    }
   },
   "outputs": [],
   "source": [
    "import numpy as np\n",
    "from sklearn.linear_model import LogisticRegression\n",
    "from sklearn.model_selection import train_test_split\n",
    "from sklearn.pipeline import make_pipeline\n",
    "from sklearn.preprocessing import StandardScaler\n",
    "\n",
    "X_train, X_test, y_train, y_test, group_train, group_test = train_test_split(\n",
    "    features, label, group, test_size=0.2, random_state=0)\n",
    "\n",
    "model = make_pipeline(StandardScaler(), LogisticRegression())\n",
    "model.fit(X_train, y_train)\n",
    "\n",
    "yhat = model.predict(X_test)\n",
    "\n",
    "white_tpr = np.mean(yhat[(y_test == 1) & (group_test == 1)])\n",
    "black_tpr = np.mean(yhat[(y_test == 1) & (group_test == 2)])\n",
    "\n",
    "# Equality of opportunity violation: 0.0871\n",
    "white_tpr - black_tpr"
   ]
  },
  {
   "cell_type": "markdown",
   "metadata": {},
   "source": [
    "The ACS data source contains data for all fifty states, each of which has a\n",
    "slightly different distribution of features and response. This increases the\n",
    "diversity of environments in which we can evaluate our methods. For instance, we\n",
    "can generate another `ACSEmployment` task using data from Texas and repeat the\n",
    "experiment"
   ]
  },
  {
   "cell_type": "code",
   "execution_count": null,
   "metadata": {},
   "outputs": [],
   "source": [
    "acs_tx = data_source.get_data(states=[\"TX\"], download=True)\n",
    "tx_features, tx_label, tx_group = ACSEmployment.df_to_numpy(acs_tx)\n",
    "\n",
    "features, label, group = ACSEmployment.df_to_numpy(acs_tx)\n",
    "X_train, X_test, y_train, y_test, group_train, group_test = train_test_split(\n",
    "    tx_features, tx_label, tx_group, test_size=0.2, random_state=0)\n",
    "\n",
    "model = make_pipeline(StandardScaler(), LogisticRegression())\n",
    "model.fit(X_train, y_train)\n",
    "\n",
    "yhat = model.predict(X_test)\n",
    "white_tpr = np.mean(yhat[(y_test == 1) & (group_test == 1)])\n",
    "black_tpr = np.mean(yhat[(y_test == 1) & (group_test == 2)])\n",
    "\n",
    "# Equality of opportunity violation: 0.0397\n",
    "white_tpr - black_tpr\n",
    "\n",
    "\n"
   ]
  },
  {
   "cell_type": "markdown",
   "metadata": {},
   "source": [
    "Distribution shift across states\n",
    "Each prediction problem in Folktables can be instantiated on data from every US\n",
    "state. This allows us to not just construct a diverse set of test environments,\n",
    "but also to use Folktables to study questions aroud distribution shift. For\n",
    "example, we can train a classifier using data from California and then evaluate\n",
    "it on data from Michigan."
   ]
  },
  {
   "cell_type": "code",
   "execution_count": null,
   "metadata": {},
   "outputs": [],
   "source": [
    "ACSIncome_categories = {\n",
    "    \"COW\": {\n",
    "        1.0: (\n",
    "            \"Employee of a private for-profit company or\"\n",
    "            \"business, or of an individual, for wages,\"\n",
    "            \"salary, or commissions\"\n",
    "        ),\n",
    "        2.0: (\n",
    "            \"Employee of a private not-for-profit, tax-exempt,\"\n",
    "            \"or charitable organization\"\n",
    "        ),\n",
    "        3.0: \"Local government employee (city, county, etc.)\",\n",
    "        4.0: \"State government employee\",\n",
    "        5.0: \"Federal government employee\",\n",
    "        6.0: (\n",
    "            \"Self-employed in own not incorporated business,\"\n",
    "            \"professional practice, or farm\"\n",
    "        ),\n",
    "        7.0: (\n",
    "            \"Self-employed in own incorporated business,\"\n",
    "            \"professional practice or farm\"\n",
    "        ),\n",
    "        8.0: \"Working without pay in family business or farm\",\n",
    "        9.0: \"Unemployed and last worked 5 years ago or earlier or never worked\",\n",
    "    },\n",
    "    \"SCHL\": {\n",
    "        1.0: \"No schooling completed\",\n",
    "        2.0: \"Nursery school, preschool\",\n",
    "        3.0: \"Kindergarten\",\n",
    "        4.0: \"Grade 1\",\n",
    "        5.0: \"Grade 2\",\n",
    "        6.0: \"Grade 3\",\n",
    "        7.0: \"Grade 4\",\n",
    "        8.0: \"Grade 5\",\n",
    "        9.0: \"Grade 6\",\n",
    "        10.0: \"Grade 7\",\n",
    "        11.0: \"Grade 8\",\n",
    "        12.0: \"Grade 9\",\n",
    "        13.0: \"Grade 10\",\n",
    "        14.0: \"Grade 11\",\n",
    "        15.0: \"12th grade - no diploma\",\n",
    "        16.0: \"Regular high school diploma\",\n",
    "        17.0: \"GED or alternative credential\",\n",
    "        18.0: \"Some college, but less than 1 year\",\n",
    "        19.0: \"1 or more years of college credit, no degree\",\n",
    "        20.0: \"Associate's degree\",\n",
    "        21.0: \"Bachelor's degree\",\n",
    "        22.0: \"Master's degree\",\n",
    "        23.0: \"Professional degree beyond a bachelor's degree\",\n",
    "        24.0: \"Doctorate degree\",\n",
    "    },\n",
    "    \"MAR\": {\n",
    "        1.0: \"Married\",\n",
    "        2.0: \"Widowed\",\n",
    "        3.0: \"Divorced\",\n",
    "        4.0: \"Separated\",\n",
    "        5.0: \"Never married or under 15 years old\",\n",
    "    },\n",
    "    \"SEX\": {1.0: \"Male\", 2.0: \"Female\"},\n",
    "    \"RAC1P\": {\n",
    "        1.0: \"White alone\",\n",
    "        2.0: \"Black or African American alone\",\n",
    "        3.0: \"American Indian alone\",\n",
    "        4.0: \"Alaska Native alone\",\n",
    "        5.0: (\n",
    "            \"American Indian and Alaska Native tribes specified;\"\n",
    "            \"or American Indian or Alaska Native,\"\n",
    "            \"not specified and no other\"\n",
    "        ),\n",
    "        6.0: \"Asian alone\",\n",
    "        7.0: \"Native Hawaiian and Other Pacific Islander alone\",\n",
    "        8.0: \"Some Other Race alone\",\n",
    "        9.0: \"Two or More Races\",\n",
    "    },\n",
    "}\n"
   ]
  },
  {
   "cell_type": "code",
   "execution_count": null,
   "metadata": {},
   "outputs": [],
   "source": [
    "from folktables import ACSDataSource, ACSIncome\n",
    "from sklearn.linear_model import LogisticRegression\n",
    "\n",
    "data_source = ACSDataSource(survey_year='2018', horizon='1-Year', survey='person')\n",
    "ca_data = data_source.get_data(states=[\"CA\"], download=True)\n",
    "mi_data = data_source.get_data(states=[\"MI\"], download=True)\n",
    "ca_features1, ca_labels1, ca_group1 = ACSIncome.df_to_numpy(ca_data)\n",
    "mi_features1, mi_labels1, mi_group1 = ACSIncome.df_to_numpy(mi_data)"
   ]
  },
  {
   "cell_type": "code",
   "execution_count": null,
   "metadata": {},
   "outputs": [],
   "source": [
    "\n",
    "from folktables import ACSDataSource, ACSIncome\n",
    "from sklearn.linear_model import LogisticRegression\n",
    "\n",
    "data_source = ACSDataSource(survey_year='2018', horizon='1-Year', survey='person')\n",
    "ca_data = data_source.get_data(states=[\"CA\"], download=True)\n",
    "mi_data = data_source.get_data(states=[\"MI\"], download=True)\n",
    "\n",
    "ca_features2, ca_labels2, ca_group2 = ACSIncome.df_to_pandas(ca_data, categories=ACSIncome_categories, dummies=True)\n",
    "mi_features2, mi_labels2, mi_group2 = ACSIncome.df_to_pandas(ca_data, categories=ACSIncome_categories, dummies=True)\n",
    "\n"
   ]
  },
  {
   "cell_type": "code",
   "execution_count": null,
   "metadata": {},
   "outputs": [],
   "source": [
    "ca_group1"
   ]
  },
  {
   "cell_type": "code",
   "execution_count": null,
   "metadata": {},
   "outputs": [],
   "source": [
    "mi_group1"
   ]
  },
  {
   "cell_type": "code",
   "execution_count": null,
   "metadata": {},
   "outputs": [],
   "source": [
    "ca_group2"
   ]
  },
  {
   "cell_type": "code",
   "execution_count": null,
   "metadata": {},
   "outputs": [],
   "source": [
    "ca_features2"
   ]
  },
  {
   "cell_type": "code",
   "execution_count": null,
   "metadata": {},
   "outputs": [],
   "source": [
    "ca_features2.shape"
   ]
  },
  {
   "cell_type": "code",
   "execution_count": null,
   "metadata": {},
   "outputs": [],
   "source": [
    "ca_features1"
   ]
  },
  {
   "cell_type": "code",
   "execution_count": null,
   "metadata": {},
   "outputs": [],
   "source": [
    "ca_features1.shape"
   ]
  },
  {
   "cell_type": "code",
   "execution_count": null,
   "metadata": {},
   "outputs": [],
   "source": [
    "from matplotlib import pyplot as plt\n",
    "import numpy as np\n",
    " \n",
    " \n",
    "\n",
    "# Creating histogram\n",
    "fig, ax = plt.subplots(figsize =(10, 7))\n",
    "# x = int(np.sqrt(195665))\n",
    "# print(x)\n",
    "# numbins = np.round(x)\n",
    "# Set title \n",
    "ax.set_title(\"Histogram of CA Features\") \n",
    "  \n",
    "# adding labels \n",
    "ax.set_xlabel('Features') \n",
    "# ax.set_ylabel('Labels') \n",
    "# print(numbins)\n",
    "\n",
    "ax.hist(ca_features1, bins = [0, 25, 50, 75, 100])\n",
    " \n",
    "# Show plot\n",
    "plt.show()"
   ]
  },
  {
   "cell_type": "code",
   "execution_count": null,
   "metadata": {},
   "outputs": [],
   "source": [
    "from matplotlib import pyplot as plt\n",
    "import numpy as np\n",
    " \n",
    " \n",
    "\n",
    "# Creating histogram\n",
    "fig, ax = plt.subplots(figsize =(10, 7))\n",
    "# x = int(np.sqrt(195665))\n",
    "# print(x)\n",
    "# numbins = np.round(x)\n",
    "# Set title \n",
    "ax.set_title(\"Histogram of CA Labels\") \n",
    "  \n",
    "# adding labels \n",
    "# ax.set_xlabel('Features') \n",
    "ax.set_xlabel('Labels') \n",
    "# print(numbins)\n",
    "\n",
    "ax.hist(ca_labels1, bins = [0, 25, 50, 75, 100])\n",
    " \n",
    "# Show plot\n",
    "plt.show()"
   ]
  },
  {
   "cell_type": "code",
   "execution_count": null,
   "metadata": {},
   "outputs": [],
   "source": [
    "from matplotlib import pyplot as plt\n",
    "import numpy as np\n",
    " \n",
    " \n",
    "\n",
    "# Creating histogram\n",
    "fig, ax = plt.subplots(figsize =(10, 7))\n",
    "# x = int(np.sqrt(195665))\n",
    "# print(x)\n",
    "# numbins = np.round(x)\n",
    "# Set title \n",
    "ax.set_title(\"Histogram of MI Features\") \n",
    "  \n",
    "# adding labels \n",
    "ax.set_xlabel('Features') \n",
    "# ax.set_ylabel('Labels') \n",
    "# print(numbins)\n",
    "\n",
    "ax.hist(mi_features1, bins = [0, 25, 50, 75, 100])\n",
    " \n",
    "# Show plot\n",
    "plt.show()"
   ]
  },
  {
   "cell_type": "code",
   "execution_count": null,
   "metadata": {},
   "outputs": [],
   "source": [
    "from matplotlib import pyplot as plt\n",
    "import numpy as np\n",
    " \n",
    " \n",
    "\n",
    "# Creating histogram\n",
    "fig, ax = plt.subplots(figsize =(10, 7))\n",
    "# x = int(np.sqrt(195665))\n",
    "# print(x)\n",
    "# numbins = np.round(x)\n",
    "# Set title \n",
    "ax.set_title(\"Histogram of MI Features\") \n",
    "  \n",
    "# adding labels \n",
    "ax.set_xlabel('Features') \n",
    "# ax.set_ylabel('Labels') \n",
    "# print(numbins)\n",
    "\n",
    "ax.hist(mi_labels1, bins = [0, 25, 50, 75, 100])\n",
    " \n",
    "# Show plot\n",
    "plt.show()"
   ]
  },
  {
   "cell_type": "code",
   "execution_count": null,
   "metadata": {},
   "outputs": [],
   "source": [
    "from matplotlib import pyplot as plt\n",
    "import numpy as np\n",
    " \n",
    " \n",
    "\n",
    "# Creating histogram\n",
    "fig, ax = plt.subplots(figsize =(10, 7))\n",
    "# x = int(np.sqrt(195665))\n",
    "# print(x)\n",
    "# numbins = np.round(x)\n",
    "# Set title \n",
    "ax.set_title(\"Histogram of MI Groups\") \n",
    "  \n",
    "# adding labels \n",
    "ax.set_xlabel('Features') \n",
    "# ax.set_ylabel('Labels') \n",
    "# print(numbins)\n",
    "\n",
    "ax.hist(mi_group2, bins = [0, 25, 50, 75, 100])\n",
    " \n",
    "# Show plot\n",
    "plt.show()"
   ]
  },
  {
   "cell_type": "code",
   "execution_count": null,
   "metadata": {},
   "outputs": [],
   "source": [
    "from matplotlib import pyplot as plt\n",
    "import numpy as np\n",
    " \n",
    " \n",
    "\n",
    "# Creating histogram\n",
    "fig, ax = plt.subplots(figsize =(10, 7))\n",
    "# x = int(np.sqrt(195665))\n",
    "# print(x)\n",
    "# numbins = np.round(x)\n",
    "# Set title \n",
    "ax.set_title(\"Histogram of MI Labels\") \n",
    "  \n",
    "# adding labels \n",
    "ax.set_xlabel('Labels') \n",
    "# ax.set_ylabel('Labels') \n",
    "# print(numbins)\n",
    "\n",
    "ax.hist(mi_labels2, bins = [0, 25, 50, 75, 100])\n",
    " \n",
    "# Show plot\n",
    "plt.show()"
   ]
  },
  {
   "cell_type": "code",
   "execution_count": null,
   "metadata": {},
   "outputs": [],
   "source": [
    "from matplotlib import pyplot as plt\n",
    "import numpy as np\n",
    " \n",
    " \n",
    "\n",
    "# Creating histogram\n",
    "fig, ax = plt.subplots(figsize =(10, 7))\n",
    "# x = int(np.sqrt(195665))\n",
    "# print(x)\n",
    "# numbins = np.round(x)\n",
    "# Set title \n",
    "ax.set_title(\"Histogram of MI Groups\") \n",
    "  \n",
    "# adding labels \n",
    "ax.set_xlabel('Groups') \n",
    "# ax.set_ylabel('Labels') \n",
    "# print(numbins)\n",
    "\n",
    "ax.hist(mi_group2, bins = [0, 25, 50, 75, 100])\n",
    " \n",
    "# Show plot\n",
    "plt.show()"
   ]
  },
  {
   "cell_type": "code",
   "execution_count": null,
   "metadata": {},
   "outputs": [],
   "source": [
    "mi_labels1"
   ]
  },
  {
   "cell_type": "code",
   "execution_count": null,
   "metadata": {},
   "outputs": [],
   "source": [
    "mi_labels1.shape"
   ]
  },
  {
   "cell_type": "code",
   "execution_count": null,
   "metadata": {},
   "outputs": [],
   "source": [
    "mi_labels2"
   ]
  },
  {
   "cell_type": "code",
   "execution_count": null,
   "metadata": {},
   "outputs": [],
   "source": [
    "mi_features1"
   ]
  },
  {
   "cell_type": "code",
   "execution_count": null,
   "metadata": {},
   "outputs": [],
   "source": [
    "mi_features1.shape"
   ]
  },
  {
   "cell_type": "code",
   "execution_count": null,
   "metadata": {},
   "outputs": [],
   "source": [
    "mi_features1[5000]"
   ]
  },
  {
   "cell_type": "code",
   "execution_count": null,
   "metadata": {},
   "outputs": [],
   "source": [
    "mi_features1[5000][9]"
   ]
  },
  {
   "cell_type": "code",
   "execution_count": null,
   "metadata": {},
   "outputs": [],
   "source": [
    "from pandas import *\n",
    "data = read_csv(\"data/2018/1-year/psam_p26.csv\")\n",
    "st = data['ST'].tolist()\n",
    "sx = data['SEX'].tolist()\n",
    "r1 = data['RAC1P'].tolist()\n",
    "r3 = data['RAC3P'].tolist()\n",
    "mp = data['MARHYP'].tolist()\n",
    "\n",
    " \n",
    "# printing list data\n",
    "print('State:', st)\n",
    "print('Sex:', sx)\n",
    "print('Race:', r1)\n",
    "print('Detailed Race', r3)\n",
    "print('Year Last Married', mp)\n",
    "\n"
   ]
  }
 ],
 "metadata": {
  "language_info": {
   "name": "python"
  }
 },
 "nbformat": 4,
 "nbformat_minor": 2
}
